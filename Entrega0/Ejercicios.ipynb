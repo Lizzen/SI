{
 "cells": [
  {
   "cell_type": "markdown",
   "metadata": {},
   "source": [
    "## Resuelve los siguientes ejercicios en este archivo."
   ]
  },
  {
   "cell_type": "raw",
   "metadata": {},
   "source": [
    "**Nombre de los integrantes del grupo**\n"
   ]
  },
  {
   "cell_type": "markdown",
   "metadata": {},
   "source": [
    "Pablo Padial Iniesta\n",
    "David Ferreras Díaz"
   ]
  },
  {
   "cell_type": "markdown",
   "metadata": {},
   "source": [
    "**_Ejercicio 1_**. En esta primera práctica has de implementar un algoritmo de integración numérica basado\n",
    "en el método de Monte Carlo.\n",
    "Dada una función real e integrable de una sola variable f(x), y su integral F(x), la integral\n",
    "definida de f(x) entre a y b viene dada por la expresión\n",
    "\n",
    "<img src=\"Integral.jpg\">\n",
    "\n",
    "Como el cálculo simbólico de la integral F(x) puede ser muy difícil, se utilizan métodos numéricos\n",
    "que aproximan su valor utilizando la interpretación geométrica de la integral definida que se\n",
    "corresponde con el área bajo la curva f(x) entre a y b.\n",
    "Dada una función f(x) positiva en el intervalo x 2 [a; b] cuyo valor máximo es M dentro de\n",
    "ese intervalo, podemos definir un rectángulo de área (b - a) x M como el que se muestra en la\n",
    "figura para el intervalo [0; 2]. El método de Monte Carlo para el cálculo de la integral consiste\n",
    "en generar aleatoriamente puntos (en rojo en la figura) dentro de ese rectángulo y aproximar el\n",
    "valor de la integral por el porcentaje de puntos que caen por debajo de la función en cuestión:\n",
    "\n",
    "<img src=\"Integral2.jpg\">\n",
    "\n",
    "donde Ndebajo es el número de puntos (x; y) generados aleatoriamente cuya coordenada y es\n",
    "menor que el valor de la función f(x) para ese valor de x y Ntotal es el número total de puntos\n",
    "generados aleatoriamente dentro del rectángulo.\n",
    "\n",
    "Implementa en Python una función con la siguiente cabecera\n",
    "\n",
    "def integra_mc(fun, a, b, num_puntos=10000)\n",
    "\n",
    "Que calcule la integral de fun entre a y b por el método de Monte Carlo antes descrito, generando\n",
    "para ello num_puntos aleatoriamente. Puedes comprobar la corrección del resultado obtenido,\n",
    "comparándolo con el de aplicar la función scip.integrate.quad de Python.\n",
    "No es necesario que tu implementación resuelva el problema de forma general, es suficiente\n",
    "con que calcule el resultado para una función definida por ti que sea >= 0 en el intervalo [a; b] y\n",
    "que se pueda aplicar tanto a un número como a un array de numpy. Por ejemplo -x^(2)+ 4x en el intervalo [0; 4]\n",
    "\n",
    "<img src=\"Integral3.jpg\">"
   ]
  },
  {
   "cell_type": "code",
   "execution_count": 5,
   "metadata": {},
   "outputs": [
    {
     "ename": "IndentationError",
     "evalue": "expected an indented block after function definition on line 5 (3510397744.py, line 7)",
     "output_type": "error",
     "traceback": [
      "\u001b[1;36m  Cell \u001b[1;32mIn[5], line 7\u001b[1;36m\u001b[0m\n\u001b[1;33m    def f(x):\u001b[0m\n\u001b[1;37m    ^\u001b[0m\n\u001b[1;31mIndentationError\u001b[0m\u001b[1;31m:\u001b[0m expected an indented block after function definition on line 5\n"
     ]
    }
   ],
   "source": [
    "# Escribe aquí la solución del ejercicio 1.\n",
    "import numpy as np\n",
    "import matplotlib.pyplot as plt\n",
    "\n",
    "def integra_mc(fun, a, b, num_puntos=10000):\n",
    "\n",
    "def f(x):\n",
    "    return -x**2+4*x\n",
    "    \n",
    "integra_mc(f, 0, 4)   \n",
    "    \n"
   ]
  },
  {
   "cell_type": "markdown",
   "metadata": {},
   "source": [
    "**Ejercicio 2:** Crea dos funciones en Python que calcule el mínimo común múltiplo de dos números y el máximo común divisor de dos números."
   ]
  },
  {
   "cell_type": "code",
   "execution_count": 3,
   "metadata": {},
   "outputs": [
    {
     "name": "stdout",
     "output_type": "stream",
     "text": [
      "El mcd es 6\n",
      "El mcm es 144.0\n"
     ]
    }
   ],
   "source": [
    "# Escribe aquí la solución del ejercicio 2.\n",
    "def mcd(a, b):\n",
    "    x = 0\n",
    "    while b != 0:\n",
    "        x = b\n",
    "        b = a % b\n",
    "        a = x\n",
    "    return a\n",
    "\n",
    "def mcm(a, b):\n",
    "    x = a*b/mcd(a,b)\n",
    "    return x\n",
    "\n",
    "print('El mcd es', mcd(48, 18))\n",
    "print('El mcm es', mcm(48, 18))\n",
    "\n"
   ]
  },
  {
   "cell_type": "markdown",
   "metadata": {},
   "source": [
    "**Ejericico 3:** Crea usando POO la clase Figura y que hereden de ella la clase Cuadrilatero, Rectangulo, Rombo, Triangulo y Circulo. Usa la lógica para contruir las relaciones Es-Un de todas las clases. El código debe respetar las buenas prácticas de POO como por ejemplo encapsulacón, no repetir código innecesario, etc.\n",
    "\n",
    "Las clases deben tener los siguientes métodos:\n",
    "- Show() muestra la figura. Podeis optar por mostrarla usando alguna librería gráfica o simplemente por consola mostrando los valores de sus atributos.\n",
    "- Area() devuelve el área de la figura.\n",
    "- Equal(figura) devuelve True si dos figuras son iguales. Para que dós figuras sean iguales deben ser del mismo tipo, y además tener la misma forma (mismo área y dimensiones)\n",
    "- OrderByArea(figura) devuelve dos figuras, la actual y la que se le pasa por parámetro, pero la primera será la que magor área tiene y la segunda la que menor área tiene. Utiiza la habilidad de Python para devolver más de una valor en una función."
   ]
  },
  {
   "cell_type": "code",
   "execution_count": 40,
   "metadata": {},
   "outputs": [
    {
     "name": "stdout",
     "output_type": "stream",
     "text": [
      "Show\n",
      "\n",
      "Cuadrilatero de lados 4 y 5\n",
      "Rectangulo de base 4 y altura 5\n",
      "Rombo de diagonal mayor 4 y diagonal menor 5\n",
      "Triangulo de base 4 y altura 5\n",
      "Circulo de radio 2 \n",
      "\n",
      "Area\n",
      "\n",
      "Área del cuadrilatero: 20\n",
      "Área del rectángulo: 20\n",
      "Área del rombo: 10.0\n",
      "Área del triangulo: 10.0\n",
      "Área del circulo: 12.566370614359172 \n",
      "\n",
      "Equal\n",
      "\n",
      "¿Cuadrilátero y rectángulo son iguales? True\n",
      "¿Rombo y rectángulo son iguales? False\n",
      "¿Rombo y triángulo son iguales? False \n",
      "\n",
      "OrderByArea\n",
      "\n",
      "Figura con mayor área: Circulo de radio 2\n",
      "Figura con menor área: Rombo de diagonal mayor 4 y diagonal menor 5\n"
     ]
    }
   ],
   "source": [
    "# Escribe aquí la solución del ejercicio 3.\n",
    "import math as mt\n",
    "\n",
    "class Figura:\n",
    "    def Show(self):\n",
    "        return str(self)\n",
    "    \n",
    "    def Area(self):\n",
    "        pass\n",
    "\n",
    "    def Equal(self, figura):\n",
    "        return isinstance(figura, self.__class__) and self.Area() == figura.Area()\n",
    "    \n",
    "    def OrderByArea(self, figura):\n",
    "        return (self, figura) if self.Area() >= figura.Area() else (figura, self)\n",
    "\n",
    "class Cuadrilatero(Figura):\n",
    "    def __init__(self, a, b):\n",
    "        self.a = a\n",
    "        self.b = b\n",
    "\n",
    "    def __str__(self):\n",
    "        return f\"Cuadrilatero de lados {self.a} y {self.b}\"\n",
    "        \n",
    "    def Area(self):\n",
    "        return self.a * self.b\n",
    "    \n",
    "class Rectangulo(Cuadrilatero):\n",
    "    def __init__(self, base, altura):\n",
    "        super().__init__(base, altura)\n",
    "\n",
    "    def __str__(self):\n",
    "        return f\"Rectangulo de base {self.a} y altura {self.b}\"\n",
    "\n",
    "    \n",
    "class Rombo(Cuadrilatero):\n",
    "    def __init__(self, d_mayor, d_menor):\n",
    "        super().__init__(d_mayor, d_menor)\n",
    "\n",
    "    def __str__(self):\n",
    "        return f\"Rombo de diagonal mayor {self.a} y diagonal menor {self.b}\"\n",
    "    \n",
    "    def Area(self):\n",
    "        return (self.a * self.b) / 2\n",
    "    \n",
    "class Triangulo(Figura):\n",
    "    def __init__(self, base, altura):\n",
    "        self.base = base\n",
    "        self.altura = altura\n",
    "\n",
    "    def __str__(self):\n",
    "        return f\"Triangulo de base {self.base} y altura {self.altura}\"\n",
    "    \n",
    "    def Area(self):\n",
    "        return (self.base * self.altura) / 2\n",
    "    \n",
    "class Circulo(Figura):\n",
    "    def __init__(self, radio):\n",
    "        self.radio = radio\n",
    "\n",
    "    def __str__(self):\n",
    "        return f\"Circulo de radio {self.radio}\"\n",
    "    \n",
    "    def Area(self):\n",
    "        return mt.pi * self.radio ** 2\n",
    "    \n",
    "cuadrilatero = Cuadrilatero(4, 5)\n",
    "rectangulo = Rectangulo(4, 5)\n",
    "rombo = Rombo(4, 5)\n",
    "triangulo = Triangulo(4, 5)\n",
    "circulo = Circulo(2)\n",
    "\n",
    "# Show\n",
    "print('Show\\n')\n",
    "print(cuadrilatero.Show())\n",
    "print(rectangulo.Show())\n",
    "print(rombo.Show())\n",
    "print(triangulo.Show())\n",
    "print(circulo.Show(), '\\n')\n",
    "\n",
    "# Area\n",
    "print('Area\\n')\n",
    "print(f\"Área del cuadrilatero: {cuadrilatero.Area()}\") \n",
    "print(f\"Área del rectángulo: {rectangulo.Area()}\") \n",
    "print(f\"Área del rombo: {rombo.Area()}\") \n",
    "print(f\"Área del triangulo: {triangulo.Area()}\") \n",
    "print(f\"Área del circulo: {circulo.Area()}\", '\\n') \n",
    "\n",
    "# Equal\n",
    "print('Equal\\n')\n",
    "print(f\"¿Cuadrilátero y rectángulo son iguales? {cuadrilatero.Equal(rectangulo)}\") \n",
    "print(f\"¿Rombo y rectángulo son iguales? {rombo.Equal(rectangulo)}\") \n",
    "print(f\"¿Rombo y triángulo son iguales? {triangulo.Equal(rombo)}\", '\\n') \n",
    "\n",
    "# OrderByArea\n",
    "print('OrderByArea\\n')\n",
    "figura1, figura2 = rombo.OrderByArea(circulo)\n",
    "print(f\"Figura con mayor área: {figura1.Show()}\") \n",
    "print(f\"Figura con menor área: {figura2.Show()}\") "
   ]
  }
 ],
 "metadata": {
  "kernelspec": {
   "display_name": "Python 3",
   "language": "python",
   "name": "python3"
  },
  "language_info": {
   "codemirror_mode": {
    "name": "ipython",
    "version": 3
   },
   "file_extension": ".py",
   "mimetype": "text/x-python",
   "name": "python",
   "nbconvert_exporter": "python",
   "pygments_lexer": "ipython3",
   "version": "3.11.9"
  }
 },
 "nbformat": 4,
 "nbformat_minor": 4
}
