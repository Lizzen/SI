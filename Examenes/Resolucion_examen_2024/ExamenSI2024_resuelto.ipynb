{
 "cells": [
  {
   "cell_type": "markdown",
   "id": "90f18712",
   "metadata": {},
   "source": [
    "# Examen de Sistemas Inteligentes 2024\n",
    "## Parte práctica\n",
    "### Nombre del alumno"
   ]
  },
  {
   "cell_type": "markdown",
   "id": "d2be8860",
   "metadata": {},
   "source": [
    "Pon aquí tu nombre."
   ]
  },
  {
   "cell_type": "markdown",
   "id": "cad5162b",
   "metadata": {},
   "source": [
    "***"
   ]
  },
  {
   "cell_type": "markdown",
   "id": "d4a15c6e",
   "metadata": {},
   "source": [
    "Instrucciones. Carga el fichero mushroom.csv, y contexta las preguntas debajo de los encabezados.\n"
   ]
  },
  {
   "cell_type": "markdown",
   "id": "0ad40dad",
   "metadata": {},
   "source": [
    "### Ejercicio 1"
   ]
  },
  {
   "cell_type": "markdown",
   "id": "17510c95",
   "metadata": {},
   "source": [
    "Probablemente sea un CNN o un autoencoder. Ambos NN son muy buenos extratores de característica de una imagen. Correctamente configurados poderían reconocer las características indicadas. Tendría 8 salidas y una entrada de 49152 pixeles."
   ]
  },
  {
   "cell_type": "markdown",
   "id": "8c096b08",
   "metadata": {},
   "source": [
    "### Ejercicio 2"
   ]
  },
  {
   "cell_type": "markdown",
   "id": "fb825deb",
   "metadata": {},
   "source": [
    "Explicación del ejercicio 2: La limpieza consiste en eliminar las filas con nulos. Podemos imputarlas (usando media o KNN) pero al ser pocas y tener bastantes datos, podemos eliminarlas sin problemas. Tambien hay que normalizarlas o bien con la normalización estandar (Media / desviación) o con MaxMinScaler ambas son correctas. Otro dato que a la mayoría se os ha olvidado es que las categóricas hay que pasarlas a one-hot-encoding. No hacerlo reduce la nota de este apartado en 0.25."
   ]
  },
  {
   "cell_type": "code",
   "execution_count": 1,
   "id": "b6e5925a",
   "metadata": {},
   "outputs": [
    {
     "name": "stdout",
     "output_type": "stream",
     "text": [
      "cap-diameter       2\n",
      "cap-shape          0\n",
      "gill-attachment    0\n",
      "gill-color         0\n",
      "stem-height        0\n",
      "stem-width         2\n",
      "stem-color         0\n",
      "season             0\n",
      "class              0\n",
      "dtype: int64\n",
      "cap-diameter       0\n",
      "cap-shape          0\n",
      "gill-attachment    0\n",
      "gill-color         0\n",
      "stem-height        0\n",
      "stem-width         0\n",
      "stem-color         0\n",
      "season             0\n",
      "class              0\n",
      "dtype: int64\n"
     ]
    },
    {
     "data": {
      "text/html": [
       "<div>\n",
       "<style scoped>\n",
       "    .dataframe tbody tr th:only-of-type {\n",
       "        vertical-align: middle;\n",
       "    }\n",
       "\n",
       "    .dataframe tbody tr th {\n",
       "        vertical-align: top;\n",
       "    }\n",
       "\n",
       "    .dataframe thead th {\n",
       "        text-align: right;\n",
       "    }\n",
       "</style>\n",
       "<table border=\"1\" class=\"dataframe\">\n",
       "  <thead>\n",
       "    <tr style=\"text-align: right;\">\n",
       "      <th></th>\n",
       "      <th>cap-diameter</th>\n",
       "      <th>cap-shape</th>\n",
       "      <th>gill-attachment</th>\n",
       "      <th>gill-color</th>\n",
       "      <th>stem-height</th>\n",
       "      <th>stem-width</th>\n",
       "      <th>stem-color</th>\n",
       "      <th>season</th>\n",
       "      <th>class</th>\n",
       "    </tr>\n",
       "  </thead>\n",
       "  <tbody>\n",
       "    <tr>\n",
       "      <th>0</th>\n",
       "      <td>1371.0</td>\n",
       "      <td>2</td>\n",
       "      <td>2</td>\n",
       "      <td>10</td>\n",
       "      <td>3.807467</td>\n",
       "      <td>1545.0</td>\n",
       "      <td>11</td>\n",
       "      <td>1.804273</td>\n",
       "      <td>1</td>\n",
       "    </tr>\n",
       "    <tr>\n",
       "      <th>1</th>\n",
       "      <td>1461.0</td>\n",
       "      <td>2</td>\n",
       "      <td>2</td>\n",
       "      <td>10</td>\n",
       "      <td>3.807467</td>\n",
       "      <td>1557.0</td>\n",
       "      <td>11</td>\n",
       "      <td>1.804273</td>\n",
       "      <td>1</td>\n",
       "    </tr>\n",
       "    <tr>\n",
       "      <th>2</th>\n",
       "      <td>1371.0</td>\n",
       "      <td>2</td>\n",
       "      <td>2</td>\n",
       "      <td>10</td>\n",
       "      <td>3.612496</td>\n",
       "      <td>1566.0</td>\n",
       "      <td>11</td>\n",
       "      <td>1.804273</td>\n",
       "      <td>1</td>\n",
       "    </tr>\n",
       "    <tr>\n",
       "      <th>3</th>\n",
       "      <td>1261.0</td>\n",
       "      <td>6</td>\n",
       "      <td>2</td>\n",
       "      <td>10</td>\n",
       "      <td>3.787572</td>\n",
       "      <td>1566.0</td>\n",
       "      <td>11</td>\n",
       "      <td>1.804273</td>\n",
       "      <td>1</td>\n",
       "    </tr>\n",
       "    <tr>\n",
       "      <th>4</th>\n",
       "      <td>1305.0</td>\n",
       "      <td>6</td>\n",
       "      <td>2</td>\n",
       "      <td>10</td>\n",
       "      <td>3.711971</td>\n",
       "      <td>1464.0</td>\n",
       "      <td>11</td>\n",
       "      <td>0.943195</td>\n",
       "      <td>1</td>\n",
       "    </tr>\n",
       "    <tr>\n",
       "      <th>...</th>\n",
       "      <td>...</td>\n",
       "      <td>...</td>\n",
       "      <td>...</td>\n",
       "      <td>...</td>\n",
       "      <td>...</td>\n",
       "      <td>...</td>\n",
       "      <td>...</td>\n",
       "      <td>...</td>\n",
       "      <td>...</td>\n",
       "    </tr>\n",
       "    <tr>\n",
       "      <th>54030</th>\n",
       "      <td>73.0</td>\n",
       "      <td>5</td>\n",
       "      <td>3</td>\n",
       "      <td>2</td>\n",
       "      <td>0.887740</td>\n",
       "      <td>569.0</td>\n",
       "      <td>12</td>\n",
       "      <td>0.943195</td>\n",
       "      <td>1</td>\n",
       "    </tr>\n",
       "    <tr>\n",
       "      <th>54031</th>\n",
       "      <td>82.0</td>\n",
       "      <td>2</td>\n",
       "      <td>3</td>\n",
       "      <td>2</td>\n",
       "      <td>1.186164</td>\n",
       "      <td>490.0</td>\n",
       "      <td>12</td>\n",
       "      <td>0.943195</td>\n",
       "      <td>1</td>\n",
       "    </tr>\n",
       "    <tr>\n",
       "      <th>54032</th>\n",
       "      <td>82.0</td>\n",
       "      <td>5</td>\n",
       "      <td>3</td>\n",
       "      <td>2</td>\n",
       "      <td>0.915593</td>\n",
       "      <td>584.0</td>\n",
       "      <td>12</td>\n",
       "      <td>0.888450</td>\n",
       "      <td>1</td>\n",
       "    </tr>\n",
       "    <tr>\n",
       "      <th>54033</th>\n",
       "      <td>79.0</td>\n",
       "      <td>2</td>\n",
       "      <td>3</td>\n",
       "      <td>2</td>\n",
       "      <td>1.034963</td>\n",
       "      <td>491.0</td>\n",
       "      <td>12</td>\n",
       "      <td>0.888450</td>\n",
       "      <td>1</td>\n",
       "    </tr>\n",
       "    <tr>\n",
       "      <th>54034</th>\n",
       "      <td>72.0</td>\n",
       "      <td>5</td>\n",
       "      <td>3</td>\n",
       "      <td>2</td>\n",
       "      <td>1.158311</td>\n",
       "      <td>492.0</td>\n",
       "      <td>12</td>\n",
       "      <td>0.888450</td>\n",
       "      <td>1</td>\n",
       "    </tr>\n",
       "  </tbody>\n",
       "</table>\n",
       "<p>54031 rows × 9 columns</p>\n",
       "</div>"
      ],
      "text/plain": [
       "       cap-diameter  cap-shape  gill-attachment  gill-color  stem-height  \\\n",
       "0            1371.0          2                2          10     3.807467   \n",
       "1            1461.0          2                2          10     3.807467   \n",
       "2            1371.0          2                2          10     3.612496   \n",
       "3            1261.0          6                2          10     3.787572   \n",
       "4            1305.0          6                2          10     3.711971   \n",
       "...             ...        ...              ...         ...          ...   \n",
       "54030          73.0          5                3           2     0.887740   \n",
       "54031          82.0          2                3           2     1.186164   \n",
       "54032          82.0          5                3           2     0.915593   \n",
       "54033          79.0          2                3           2     1.034963   \n",
       "54034          72.0          5                3           2     1.158311   \n",
       "\n",
       "       stem-width  stem-color    season  class  \n",
       "0          1545.0          11  1.804273      1  \n",
       "1          1557.0          11  1.804273      1  \n",
       "2          1566.0          11  1.804273      1  \n",
       "3          1566.0          11  1.804273      1  \n",
       "4          1464.0          11  0.943195      1  \n",
       "...           ...         ...       ...    ...  \n",
       "54030       569.0          12  0.943195      1  \n",
       "54031       490.0          12  0.943195      1  \n",
       "54032       584.0          12  0.888450      1  \n",
       "54033       491.0          12  0.888450      1  \n",
       "54034       492.0          12  0.888450      1  \n",
       "\n",
       "[54031 rows x 9 columns]"
      ]
     },
     "metadata": {},
     "output_type": "display_data"
    },
    {
     "name": "stdout",
     "output_type": "stream",
     "text": [
      "(54031, 4)\n",
      "(54031, 43)\n",
      "[[0.72501322 0.99273698 0.43289437 ... 0.         1.         0.        ]\n",
      " [0.77260709 0.99273698 0.43625665 ... 0.         1.         0.        ]\n",
      " [0.72501322 0.94189582 0.43877837 ... 0.         1.         0.        ]\n",
      " ...\n",
      " [0.0433633  0.23864218 0.16363127 ... 0.         0.         1.        ]\n",
      " [0.04177684 0.26976942 0.13757355 ... 0.         0.         1.        ]\n",
      " [0.03807509 0.30193424 0.13785374 ... 0.         0.         1.        ]]\n"
     ]
    }
   ],
   "source": [
    "#code here\n",
    "import pandas as pd\n",
    "from sklearn.preprocessing import OneHotEncoder\n",
    "import numpy as np\n",
    "from sklearn.impute import SimpleImputer\n",
    "mushroomOriginal = pd.read_csv('mushroom.csv')\n",
    "countNaN = mushroomOriginal.isna().sum()\n",
    "print(countNaN)\n",
    "mushroomOriginal = mushroomOriginal.dropna(how='any')\n",
    "countNaN = mushroomOriginal.isna().sum()\n",
    "print(countNaN)\n",
    "encoder = OneHotEncoder(sparse_output=False)\n",
    "display(mushroomOriginal)\n",
    "cap_shape=mushroomOriginal[\"cap-shape\"].to_numpy()\n",
    "gill_attachment=mushroomOriginal[\"gill-attachment\"].to_numpy()\n",
    "gill_color=mushroomOriginal[\"gill-color\"].to_numpy()\n",
    "stem_color=mushroomOriginal[\"stem-color\"].to_numpy()\n",
    "\n",
    "cap_shapeOHE = encoder.fit_transform(cap_shape.reshape(-1, 1))\n",
    "gill_attachmentOHE = encoder.fit_transform(gill_attachment.reshape(-1, 1))\n",
    "gill_colorOHE = encoder.fit_transform(gill_color.reshape(-1, 1))\n",
    "stem_colorOHE = encoder.fit_transform(stem_color.reshape(-1, 1))\n",
    "\n",
    "mushroomOriginal=mushroomOriginal.drop(\"cap-shape\",axis=1)\n",
    "mushroomOriginal=mushroomOriginal.drop(\"gill-attachment\",axis=1)\n",
    "mushroomOriginal=mushroomOriginal.drop(\"gill-color\",axis=1)\n",
    "mushroomOriginal=mushroomOriginal.drop(\"stem-color\",axis=1)\n",
    "Y = mushroomOriginal[\"class\"].to_numpy()\n",
    "mushroomOriginal=mushroomOriginal.drop(\"class\",axis=1)\n",
    "\n",
    "X = mushroomOriginal.to_numpy()\n",
    "print(X.shape)\n",
    "X = np.hstack((X,cap_shapeOHE))\n",
    "X = np.hstack((X,gill_attachmentOHE))\n",
    "X = np.hstack((X,gill_colorOHE))\n",
    "X = np.hstack((X,stem_colorOHE))\n",
    "print(X.shape)\n",
    "\n",
    "from sklearn.preprocessing import StandardScaler, MinMaxScaler\n",
    "scaler = MinMaxScaler()\n",
    "X = scaler.fit_transform(X)\n",
    "\n",
    "print(X)\n",
    "from sklearn.model_selection import train_test_split\n",
    "X_train, X_test, y_train, y_test = train_test_split(X, Y, test_size=0.2, random_state=13)"
   ]
  },
  {
   "cell_type": "markdown",
   "id": "362383f6",
   "metadata": {},
   "source": []
  },
  {
   "cell_type": "markdown",
   "id": "33cfd814",
   "metadata": {},
   "source": [
    "### Ejercicio 3"
   ]
  },
  {
   "cell_type": "markdown",
   "id": "970a7fc1",
   "metadata": {},
   "source": [
    "Aqui el resultado puede variar, pero por lo general, sin tocar algun hiperparametro no se consigue el 97% o superior que he conseguido yo. \n",
    "Os pido solo el 90% para dejaros margen."
   ]
  },
  {
   "cell_type": "code",
   "execution_count": 2,
   "id": "2c60c6e3",
   "metadata": {},
   "outputs": [
    {
     "name": "stdout",
     "output_type": "stream",
     "text": [
      "Accuracy 0.9719626168224299\n"
     ]
    }
   ],
   "source": [
    "#code here\n",
    "from sklearn.neural_network import MLPClassifier\n",
    "from sklearn.metrics import accuracy_score\n",
    "model = MLPClassifier(hidden_layer_sizes=(20), max_iter=7000, alpha=0.01, learning_rate_init=0.001, random_state=13)\n",
    "model.fit(X_train, y_train)\n",
    "# Obtener las predicciones del clasificador de scikit-learn\n",
    "y_pred_sklearn = model.predict(X_test)\n",
    "ac = accuracy_score(y_pred_sklearn,y_test)\n",
    "print(\"Accuracy\",ac)"
   ]
  },
  {
   "cell_type": "markdown",
   "id": "cf769074",
   "metadata": {},
   "source": [
    "### Ejercicio 4"
   ]
  },
  {
   "cell_type": "markdown",
   "id": "73d362c8",
   "metadata": {},
   "source": [
    "Idem con esta parte, para conseguir un 98 o 99 se necesitan tocan hiperparametros en la mayoria de las ocasasiones, os pido menos (95%) para tener margen."
   ]
  },
  {
   "cell_type": "code",
   "execution_count": 3,
   "id": "2f07aaf4",
   "metadata": {},
   "outputs": [
    {
     "name": "stdout",
     "output_type": "stream",
     "text": [
      "Accuracy 0.9905616729897289\n"
     ]
    }
   ],
   "source": [
    "#code here\n",
    "from sklearn.ensemble import RandomForestClassifier\n",
    "clf = RandomForestClassifier(max_depth=20, random_state=13,n_estimators=400)\n",
    "clf.fit(X_train, y_train)\n",
    "\n",
    "y_predict_RF = clf.predict(X_test)\n",
    "ac = accuracy_score(y_predict_RF,y_test)\n",
    "print(\"Accuracy\",ac)"
   ]
  },
  {
   "cell_type": "markdown",
   "id": "dd272ece",
   "metadata": {},
   "source": [
    "### Ejercicio 5"
   ]
  },
  {
   "cell_type": "markdown",
   "id": "c9978198",
   "metadata": {},
   "source": [
    "Aqui la explicación depende de vuestro resultados, pero princpalmente hay que mirar estas cosas:\n",
    "Los falsos positivos ya que aqui son importantes, si crees que no es venenoso y resulta que lo es puedes morir. Además RF es mas rápido de entrenar y es un pocquito más explicable que una red de neuronas. Dependiendo del resultado se puede argumentar que uno es mejor que otro pero en igualdad o similitud de condiciones, parte con ventaja RF."
   ]
  },
  {
   "cell_type": "code",
   "execution_count": 4,
   "id": "d0281a5d",
   "metadata": {},
   "outputs": [
    {
     "name": "stdout",
     "output_type": "stream",
     "text": [
      "                       Pred 0 (comestible)  Pred 1 (venenoso)\n",
      "Actual 0 (comestible)                 4807                108\n",
      "Actual 1 (venenoso)                    195               5697\n",
      "                       Pred 0 (comestible)  Pred 1 (venenoso)\n",
      "Actual 0 (comestible)                 4869                 46\n",
      "Actual 1 (venenoso)                     56               5836\n"
     ]
    }
   ],
   "source": [
    "from sklearn.metrics import confusion_matrix\n",
    "import matplotlib.pyplot as plt\n",
    "def matrix_view(y_test, y_pred):\n",
    "    cm = confusion_matrix(y_test, y_pred)\n",
    "\n",
    "    cm_df = pd.DataFrame(cm, index=['Actual 0 (comestible)', 'Actual 1 (venenoso)'],\n",
    "    columns=['Pred 0 (comestible)', 'Pred 1 (venenoso)'])\n",
    "    print(cm_df)\n",
    "\n",
    "matrix_view(y_test, y_pred_sklearn)\n",
    "matrix_view(y_test, y_predict_RF)"
   ]
  },
  {
   "cell_type": "markdown",
   "id": "a2d71e1e",
   "metadata": {},
   "source": []
  }
 ],
 "metadata": {
  "kernelspec": {
   "display_name": "Python 3",
   "language": "python",
   "name": "python3"
  },
  "language_info": {
   "codemirror_mode": {
    "name": "ipython",
    "version": 3
   },
   "file_extension": ".py",
   "mimetype": "text/x-python",
   "name": "python",
   "nbconvert_exporter": "python",
   "pygments_lexer": "ipython3",
   "version": "3.11.9"
  }
 },
 "nbformat": 4,
 "nbformat_minor": 5
}
